{
 "cells": [
  {
   "cell_type": "code",
   "execution_count": 4,
   "metadata": {},
   "outputs": [
    {
     "name": "stdout",
     "output_type": "stream",
     "text": [
      "Requirement already satisfied: ydata_profiling in c:\\users\\neelakanta\\appdata\\local\\programs\\python\\python37\\lib\\site-packages (4.9.0)\n",
      "Requirement already satisfied: scipy<1.14,>=1.4.1 in c:\\users\\neelakanta\\appdata\\local\\programs\\python\\python37\\lib\\site-packages (from ydata_profiling) (1.7.3)\n",
      "Requirement already satisfied: pandas!=1.4.0,<3,>1.1 in c:\\users\\neelakanta\\appdata\\local\\programs\\python\\python37\\lib\\site-packages (from ydata_profiling) (1.3.5)\n",
      "Requirement already satisfied: matplotlib<3.10,>=3.5 in c:\\users\\neelakanta\\appdata\\local\\programs\\python\\python37\\lib\\site-packages (from ydata_profiling) (3.5.3)\n",
      "Collecting pydantic>=2 (from ydata_profiling)\n",
      "  Using cached pydantic-2.5.3-py3-none-any.whl.metadata (65 kB)\n",
      "Requirement already satisfied: PyYAML<6.1,>=5.0.0 in c:\\users\\neelakanta\\appdata\\local\\programs\\python\\python37\\lib\\site-packages (from ydata_profiling) (6.0.1)\n",
      "Requirement already satisfied: jinja2<3.2,>=2.11.1 in c:\\users\\neelakanta\\appdata\\local\\programs\\python\\python37\\lib\\site-packages (from ydata_profiling) (3.1.2)\n",
      "Requirement already satisfied: visions<0.7.7,>=0.7.5 in c:\\users\\neelakanta\\appdata\\local\\programs\\python\\python37\\lib\\site-packages (from visions[type_image_path]<0.7.7,>=0.7.5->ydata_profiling) (0.7.5)\n",
      "Requirement already satisfied: numpy<2,>=1.16.0 in c:\\users\\neelakanta\\appdata\\local\\programs\\python\\python37\\lib\\site-packages (from ydata_profiling) (1.21.6)\n",
      "Requirement already satisfied: htmlmin==0.1.12 in c:\\users\\neelakanta\\appdata\\local\\programs\\python\\python37\\lib\\site-packages (from ydata_profiling) (0.1.12)\n",
      "Requirement already satisfied: phik<0.13,>=0.11.1 in c:\\users\\neelakanta\\appdata\\local\\programs\\python\\python37\\lib\\site-packages (from ydata_profiling) (0.12.3)\n",
      "Requirement already satisfied: requests<3,>=2.24.0 in c:\\users\\neelakanta\\appdata\\local\\programs\\python\\python37\\lib\\site-packages (from ydata_profiling) (2.31.0)\n",
      "Requirement already satisfied: tqdm<5,>=4.48.2 in c:\\users\\neelakanta\\appdata\\local\\programs\\python\\python37\\lib\\site-packages (from ydata_profiling) (4.66.4)\n",
      "Requirement already satisfied: seaborn<0.14,>=0.10.1 in c:\\users\\neelakanta\\appdata\\local\\programs\\python\\python37\\lib\\site-packages (from ydata_profiling) (0.12.2)\n",
      "Requirement already satisfied: multimethod<2,>=1.4 in c:\\users\\neelakanta\\appdata\\local\\programs\\python\\python37\\lib\\site-packages (from ydata_profiling) (1.9.1)\n",
      "Requirement already satisfied: statsmodels<1,>=0.13.2 in c:\\users\\neelakanta\\appdata\\local\\programs\\python\\python37\\lib\\site-packages (from ydata_profiling) (0.13.5)\n",
      "Requirement already satisfied: typeguard<5,>=3 in c:\\users\\neelakanta\\appdata\\local\\programs\\python\\python37\\lib\\site-packages (from ydata_profiling) (4.1.2)\n",
      "Requirement already satisfied: imagehash==4.3.1 in c:\\users\\neelakanta\\appdata\\local\\programs\\python\\python37\\lib\\site-packages (from ydata_profiling) (4.3.1)\n",
      "Requirement already satisfied: wordcloud>=1.9.1 in c:\\users\\neelakanta\\appdata\\local\\programs\\python\\python37\\lib\\site-packages (from ydata_profiling) (1.9.3)\n",
      "Requirement already satisfied: dacite>=1.8 in c:\\users\\neelakanta\\appdata\\local\\programs\\python\\python37\\lib\\site-packages (from ydata_profiling) (1.8.1)\n",
      "Requirement already satisfied: numba<1,>=0.56.0 in c:\\users\\neelakanta\\appdata\\local\\programs\\python\\python37\\lib\\site-packages (from ydata_profiling) (0.56.4)\n",
      "Requirement already satisfied: PyWavelets in c:\\users\\neelakanta\\appdata\\local\\programs\\python\\python37\\lib\\site-packages (from imagehash==4.3.1->ydata_profiling) (1.3.0)\n",
      "Requirement already satisfied: pillow in c:\\users\\neelakanta\\appdata\\local\\programs\\python\\python37\\lib\\site-packages (from imagehash==4.3.1->ydata_profiling) (9.5.0)\n",
      "Requirement already satisfied: MarkupSafe>=2.0 in c:\\users\\neelakanta\\appdata\\local\\programs\\python\\python37\\lib\\site-packages (from jinja2<3.2,>=2.11.1->ydata_profiling) (2.1.3)\n",
      "Requirement already satisfied: cycler>=0.10 in c:\\users\\neelakanta\\appdata\\local\\programs\\python\\python37\\lib\\site-packages (from matplotlib<3.10,>=3.5->ydata_profiling) (0.11.0)\n",
      "Requirement already satisfied: fonttools>=4.22.0 in c:\\users\\neelakanta\\appdata\\local\\programs\\python\\python37\\lib\\site-packages (from matplotlib<3.10,>=3.5->ydata_profiling) (4.38.0)\n",
      "Requirement already satisfied: kiwisolver>=1.0.1 in c:\\users\\neelakanta\\appdata\\local\\programs\\python\\python37\\lib\\site-packages (from matplotlib<3.10,>=3.5->ydata_profiling) (1.4.5)\n",
      "Requirement already satisfied: packaging>=20.0 in c:\\users\\neelakanta\\appdata\\local\\programs\\python\\python37\\lib\\site-packages (from matplotlib<3.10,>=3.5->ydata_profiling) (23.2)\n",
      "Requirement already satisfied: pyparsing>=2.2.1 in c:\\users\\neelakanta\\appdata\\local\\programs\\python\\python37\\lib\\site-packages (from matplotlib<3.10,>=3.5->ydata_profiling) (3.1.1)\n",
      "Requirement already satisfied: python-dateutil>=2.7 in c:\\users\\neelakanta\\appdata\\local\\programs\\python\\python37\\lib\\site-packages (from matplotlib<3.10,>=3.5->ydata_profiling) (2.8.2)\n",
      "Requirement already satisfied: llvmlite<0.40,>=0.39.0dev0 in c:\\users\\neelakanta\\appdata\\local\\programs\\python\\python37\\lib\\site-packages (from numba<1,>=0.56.0->ydata_profiling) (0.39.1)\n",
      "Requirement already satisfied: setuptools in c:\\users\\neelakanta\\appdata\\roaming\\python\\python37\\site-packages (from numba<1,>=0.56.0->ydata_profiling) (68.0.0)\n",
      "Requirement already satisfied: importlib-metadata in c:\\users\\neelakanta\\appdata\\local\\programs\\python\\python37\\lib\\site-packages (from numba<1,>=0.56.0->ydata_profiling) (6.7.0)\n",
      "Requirement already satisfied: pytz>=2017.3 in c:\\users\\neelakanta\\appdata\\local\\programs\\python\\python37\\lib\\site-packages (from pandas!=1.4.0,<3,>1.1->ydata_profiling) (2024.1)\n",
      "Requirement already satisfied: joblib>=0.14.1 in c:\\users\\neelakanta\\appdata\\local\\programs\\python\\python37\\lib\\site-packages (from phik<0.13,>=0.11.1->ydata_profiling) (1.3.1)\n",
      "Requirement already satisfied: annotated-types>=0.4.0 in c:\\users\\neelakanta\\appdata\\local\\programs\\python\\python37\\lib\\site-packages (from pydantic>=2->ydata_profiling) (0.5.0)\n",
      "Requirement already satisfied: pydantic-core==2.14.6 in c:\\users\\neelakanta\\appdata\\local\\programs\\python\\python37\\lib\\site-packages (from pydantic>=2->ydata_profiling) (2.14.6)\n",
      "Requirement already satisfied: typing-extensions>=4.6.1 in c:\\users\\neelakanta\\appdata\\local\\programs\\python\\python37\\lib\\site-packages (from pydantic>=2->ydata_profiling) (4.7.1)\n",
      "Requirement already satisfied: charset-normalizer<4,>=2 in c:\\users\\neelakanta\\appdata\\local\\programs\\python\\python37\\lib\\site-packages (from requests<3,>=2.24.0->ydata_profiling) (3.3.2)\n",
      "Requirement already satisfied: idna<4,>=2.5 in c:\\users\\neelakanta\\appdata\\local\\programs\\python\\python37\\lib\\site-packages (from requests<3,>=2.24.0->ydata_profiling) (3.4)\n",
      "Requirement already satisfied: urllib3<3,>=1.21.1 in c:\\users\\neelakanta\\appdata\\local\\programs\\python\\python37\\lib\\site-packages (from requests<3,>=2.24.0->ydata_profiling) (2.0.7)\n",
      "Requirement already satisfied: certifi>=2017.4.17 in c:\\users\\neelakanta\\appdata\\local\\programs\\python\\python37\\lib\\site-packages (from requests<3,>=2.24.0->ydata_profiling) (2024.6.2)\n",
      "Requirement already satisfied: patsy>=0.5.2 in c:\\users\\neelakanta\\appdata\\local\\programs\\python\\python37\\lib\\site-packages (from statsmodels<1,>=0.13.2->ydata_profiling) (0.5.6)\n",
      "Requirement already satisfied: colorama in c:\\users\\neelakanta\\appdata\\local\\programs\\python\\python37\\lib\\site-packages (from tqdm<5,>=4.48.2->ydata_profiling) (0.4.6)\n",
      "Requirement already satisfied: attrs>=19.3.0 in c:\\users\\neelakanta\\appdata\\local\\programs\\python\\python37\\lib\\site-packages (from visions<0.7.7,>=0.7.5->visions[type_image_path]<0.7.7,>=0.7.5->ydata_profiling) (23.1.0)\n",
      "Requirement already satisfied: networkx>=2.4 in c:\\users\\neelakanta\\appdata\\local\\programs\\python\\python37\\lib\\site-packages (from visions<0.7.7,>=0.7.5->visions[type_image_path]<0.7.7,>=0.7.5->ydata_profiling) (2.6.3)\n",
      "Requirement already satisfied: tangled-up-in-unicode>=0.0.4 in c:\\users\\neelakanta\\appdata\\local\\programs\\python\\python37\\lib\\site-packages (from visions<0.7.7,>=0.7.5->visions[type_image_path]<0.7.7,>=0.7.5->ydata_profiling) (0.2.0)\n",
      "Requirement already satisfied: zipp>=0.5 in c:\\users\\neelakanta\\appdata\\local\\programs\\python\\python37\\lib\\site-packages (from importlib-metadata->numba<1,>=0.56.0->ydata_profiling) (3.15.0)\n",
      "Requirement already satisfied: six in c:\\users\\neelakanta\\appdata\\local\\programs\\python\\python37\\lib\\site-packages (from patsy>=0.5.2->statsmodels<1,>=0.13.2->ydata_profiling) (1.16.0)\n",
      "Using cached pydantic-2.5.3-py3-none-any.whl (381 kB)\n",
      "Installing collected packages: pydantic\n",
      "  Attempting uninstall: pydantic\n",
      "    Found existing installation: pydantic 1.10.18\n",
      "    Uninstalling pydantic-1.10.18:\n",
      "      Successfully uninstalled pydantic-1.10.18\n",
      "Successfully installed pydantic-2.5.3\n",
      "Note: you may need to restart the kernel to use updated packages.\n"
     ]
    },
    {
     "name": "stderr",
     "output_type": "stream",
     "text": [
      "WARNING: visions 0.7.5 does not provide the extra 'type-image-path'\n"
     ]
    }
   ],
   "source": [
    "pip install ydata_profiling"
   ]
  },
  {
   "cell_type": "code",
   "execution_count": 5,
   "metadata": {},
   "outputs": [
    {
     "name": "stderr",
     "output_type": "stream",
     "text": [
      "c:\\Users\\neelakanta\\AppData\\Local\\Programs\\Python\\Python37\\lib\\site-packages\\tqdm\\auto.py:21: TqdmWarning: IProgress not found. Please update jupyter and ipywidgets. See https://ipywidgets.readthedocs.io/en/stable/user_install.html\n",
      "  from .autonotebook import tqdm as notebook_tqdm\n"
     ]
    }
   ],
   "source": [
    "import ydata_profiling "
   ]
  },
  {
   "cell_type": "code",
   "execution_count": 8,
   "metadata": {},
   "outputs": [],
   "source": [
    "import seaborn as sns"
   ]
  },
  {
   "cell_type": "code",
   "execution_count": 9,
   "metadata": {},
   "outputs": [],
   "source": [
    "df=sns.load_dataset('tips')"
   ]
  },
  {
   "cell_type": "code",
   "execution_count": 10,
   "metadata": {},
   "outputs": [
    {
     "data": {
      "text/html": [
       "<div>\n",
       "<style scoped>\n",
       "    .dataframe tbody tr th:only-of-type {\n",
       "        vertical-align: middle;\n",
       "    }\n",
       "\n",
       "    .dataframe tbody tr th {\n",
       "        vertical-align: top;\n",
       "    }\n",
       "\n",
       "    .dataframe thead th {\n",
       "        text-align: right;\n",
       "    }\n",
       "</style>\n",
       "<table border=\"1\" class=\"dataframe\">\n",
       "  <thead>\n",
       "    <tr style=\"text-align: right;\">\n",
       "      <th></th>\n",
       "      <th>total_bill</th>\n",
       "      <th>tip</th>\n",
       "      <th>sex</th>\n",
       "      <th>smoker</th>\n",
       "      <th>day</th>\n",
       "      <th>time</th>\n",
       "      <th>size</th>\n",
       "    </tr>\n",
       "  </thead>\n",
       "  <tbody>\n",
       "    <tr>\n",
       "      <th>0</th>\n",
       "      <td>16.99</td>\n",
       "      <td>1.01</td>\n",
       "      <td>Female</td>\n",
       "      <td>No</td>\n",
       "      <td>Sun</td>\n",
       "      <td>Dinner</td>\n",
       "      <td>2</td>\n",
       "    </tr>\n",
       "    <tr>\n",
       "      <th>1</th>\n",
       "      <td>10.34</td>\n",
       "      <td>1.66</td>\n",
       "      <td>Male</td>\n",
       "      <td>No</td>\n",
       "      <td>Sun</td>\n",
       "      <td>Dinner</td>\n",
       "      <td>3</td>\n",
       "    </tr>\n",
       "    <tr>\n",
       "      <th>2</th>\n",
       "      <td>21.01</td>\n",
       "      <td>3.50</td>\n",
       "      <td>Male</td>\n",
       "      <td>No</td>\n",
       "      <td>Sun</td>\n",
       "      <td>Dinner</td>\n",
       "      <td>3</td>\n",
       "    </tr>\n",
       "    <tr>\n",
       "      <th>3</th>\n",
       "      <td>23.68</td>\n",
       "      <td>3.31</td>\n",
       "      <td>Male</td>\n",
       "      <td>No</td>\n",
       "      <td>Sun</td>\n",
       "      <td>Dinner</td>\n",
       "      <td>2</td>\n",
       "    </tr>\n",
       "    <tr>\n",
       "      <th>4</th>\n",
       "      <td>24.59</td>\n",
       "      <td>3.61</td>\n",
       "      <td>Female</td>\n",
       "      <td>No</td>\n",
       "      <td>Sun</td>\n",
       "      <td>Dinner</td>\n",
       "      <td>4</td>\n",
       "    </tr>\n",
       "  </tbody>\n",
       "</table>\n",
       "</div>"
      ],
      "text/plain": [
       "   total_bill   tip     sex smoker  day    time  size\n",
       "0       16.99  1.01  Female     No  Sun  Dinner     2\n",
       "1       10.34  1.66    Male     No  Sun  Dinner     3\n",
       "2       21.01  3.50    Male     No  Sun  Dinner     3\n",
       "3       23.68  3.31    Male     No  Sun  Dinner     2\n",
       "4       24.59  3.61  Female     No  Sun  Dinner     4"
      ]
     },
     "execution_count": 10,
     "metadata": {},
     "output_type": "execute_result"
    }
   ],
   "source": [
    "df.head()"
   ]
  },
  {
   "cell_type": "code",
   "execution_count": 6,
   "metadata": {},
   "outputs": [],
   "source": [
    "from ydata_profiling import ProfileReport"
   ]
  },
  {
   "cell_type": "code",
   "execution_count": 11,
   "metadata": {},
   "outputs": [
    {
     "name": "stderr",
     "output_type": "stream",
     "text": [
      "Summarize dataset: 100%|██████████| 25/25 [00:06<00:00,  3.61it/s, Completed]                     \n",
      "Generate report structure: 100%|██████████| 1/1 [00:03<00:00,  3.87s/it]\n",
      "Render HTML: 100%|██████████| 1/1 [00:01<00:00,  1.61s/it]\n",
      "Export report to file: 100%|██████████| 1/1 [00:00<00:00, 43.48it/s]\n"
     ]
    }
   ],
   "source": [
    "profile=ProfileReport(df,explorative=True,dark_mode=True)\n",
    "profile.to_file('Output.html')"
   ]
  },
  {
   "cell_type": "code",
   "execution_count": null,
   "metadata": {},
   "outputs": [],
   "source": []
  }
 ],
 "metadata": {
  "kernelspec": {
   "display_name": "Python 3.7.7 64-bit",
   "language": "python",
   "name": "python3"
  },
  "language_info": {
   "codemirror_mode": {
    "name": "ipython",
    "version": 3
   },
   "file_extension": ".py",
   "mimetype": "text/x-python",
   "name": "python",
   "nbconvert_exporter": "python",
   "pygments_lexer": "ipython3",
   "version": "3.7.7"
  },
  "orig_nbformat": 4,
  "vscode": {
   "interpreter": {
    "hash": "21509f5c5095727024408a9be39c3a936753686fb50b2c87c97df11271bf88c9"
   }
  }
 },
 "nbformat": 4,
 "nbformat_minor": 2
}
